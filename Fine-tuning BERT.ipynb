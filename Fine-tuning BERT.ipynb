{
 "cells": [
  {
   "cell_type": "code",
   "execution_count": 1,
   "id": "handmade-folks",
   "metadata": {
    "scrolled": true
   },
   "outputs": [
    {
     "name": "stdout",
     "output_type": "stream",
     "text": [
      "INFO:tensorflow:Enabling eager execution\n",
      "INFO:tensorflow:Enabling v2 tensorshape\n",
      "INFO:tensorflow:Enabling resource variables\n",
      "INFO:tensorflow:Enabling tensor equality\n",
      "INFO:tensorflow:Enabling control flow v2\n"
     ]
    }
   ],
   "source": [
    "from transformers import BertForSequenceClassification, BertTokenizer, Trainer, TrainingArguments, \\\n",
    "BertForQuestionAnswering, DistilBertForTokenClassification, AutoTokenizer, AutoModel, AutoModelForTokenClassification\n",
    "\n",
    "from nlp import load_dataset, Dataset\n",
    "import torch\n",
    "from transformers import pipeline\n",
    "import numpy as np\n",
    "import pandas as pd\n",
    "from transformers import DistilBertForTokenClassification\n",
    "\n",
    "\n",
    "# for visualizations\n",
    "import seaborn as sns\n",
    "import matplotlib.pyplot as plt"
   ]
  },
  {
   "cell_type": "markdown",
   "id": "selective-saturn",
   "metadata": {},
   "source": [
    "# Quick Examples using the pipeline object in transformers\n",
    "\n",
    "We can run some quick examples of fine-tuned models using the nlp module in the transformers package"
   ]
  },
  {
   "cell_type": "code",
   "execution_count": 2,
   "id": "changed-tablet",
   "metadata": {},
   "outputs": [
    {
     "name": "stdout",
     "output_type": "stream",
     "text": [
      "<class 'transformers.models.distilbert.modeling_distilbert.DistilBertForQuestionAnswering'>\n"
     ]
    }
   ],
   "source": [
    "# list of available pipelines here: https://huggingface.co/transformers/main_classes/pipelines.html\n",
    "nlp = pipeline(\"question-answering\")\n",
    "\n",
    "print(type(nlp.model))  # Using a flavor of BERT called DistilBERT"
   ]
  },
  {
   "cell_type": "code",
   "execution_count": 3,
   "id": "anonymous-negotiation",
   "metadata": {},
   "outputs": [
    {
     "name": "stdout",
     "output_type": "stream",
     "text": [
      "{'score': 0.7949583530426025, 'start': 51, 'end': 54, 'answer': 'dog'}\n",
      "{'score': 0.7224200963973999, 'start': 72, 'end': 75, 'answer': 'cat'}\n"
     ]
    }
   ],
   "source": [
    "context = \"My friend Walker owns a Tarantula. I, Sinan, own a dog. Matt just got a cat!\"\n",
    "\n",
    "print(nlp(question=\"What kind of pet does Sinan have?\", context=context))  # should be dog\n",
    "print(nlp(question=\"What kind of pet does Matt have?\", context=context))  # should be cat"
   ]
  },
  {
   "cell_type": "code",
   "execution_count": null,
   "id": "mature-cleveland",
   "metadata": {},
   "outputs": [],
   "source": []
  },
  {
   "cell_type": "code",
   "execution_count": 4,
   "id": "stupid-determination",
   "metadata": {},
   "outputs": [
    {
     "name": "stdout",
     "output_type": "stream",
     "text": [
      "<class 'transformers.models.distilbert.modeling_distilbert.DistilBertForSequenceClassification'>\n",
      "[{'label': 'POSITIVE', 'score': 0.9998711347579956}]\n"
     ]
    }
   ],
   "source": [
    "# A sentiment analysis pipeline\n",
    "nlp = pipeline(\"sentiment-analysis\")\n",
    "\n",
    "print(type(nlp.model))  # Using a flavor of BERT called DistilBERT\n",
    "\n",
    "print(nlp(\"My friend told me about this class and I love it so far! She was right.\"))"
   ]
  },
  {
   "cell_type": "code",
   "execution_count": null,
   "id": "adequate-manual",
   "metadata": {},
   "outputs": [],
   "source": []
  },
  {
   "cell_type": "code",
   "execution_count": 5,
   "id": "severe-april",
   "metadata": {},
   "outputs": [
    {
     "name": "stdout",
     "output_type": "stream",
     "text": [
      "<class 'transformers.models.roberta.modeling_roberta.RobertaForMaskedLM'>\n",
      "If you don’t *** at the sign, you will get a ticket\n",
      "Token: stop. Score: 42.11%\n",
      "Token: look. Score: 7.53%\n",
      "Token: park. Score: 4.92%\n",
      "Token: arrive. Score: 4.65%\n",
      "Token: sign. Score: 4.27%\n"
     ]
    }
   ],
   "source": [
    "# We can even do a auto-encoder languuage model task!\n",
    "\n",
    "nlp = pipeline(\"fill-mask\")\n",
    "\n",
    "print(type(nlp.model))  # Using a flavor of BERT called RoBERTa\n",
    "\n",
    "preds = nlp(f\"If you don’t {nlp.tokenizer.mask_token} at the sign, you will get a ticket\")\n",
    "print('If you don’t *** at the sign, you will get a ticket')\n",
    "for p in preds:\n",
    "    print(f\"Token:{p['token_str']}. Score: {100*p['score']:,.2f}%\")"
   ]
  },
  {
   "cell_type": "code",
   "execution_count": null,
   "id": "golden-chemistry",
   "metadata": {},
   "outputs": [],
   "source": []
  },
  {
   "cell_type": "markdown",
   "id": "wicked-punch",
   "metadata": {},
   "source": [
    "# Example 1: Sequence Classification\n",
    "\n",
    "![BERT Sequence Classification](images/bert_seq_class.png)"
   ]
  },
  {
   "cell_type": "code",
   "execution_count": 6,
   "id": "twelve-mining",
   "metadata": {},
   "outputs": [
    {
     "data": {
      "text/html": [
       "<div>\n",
       "<style scoped>\n",
       "    .dataframe tbody tr th:only-of-type {\n",
       "        vertical-align: middle;\n",
       "    }\n",
       "\n",
       "    .dataframe tbody tr th {\n",
       "        vertical-align: top;\n",
       "    }\n",
       "\n",
       "    .dataframe thead th {\n",
       "        text-align: right;\n",
       "    }\n",
       "</style>\n",
       "<table border=\"1\" class=\"dataframe\">\n",
       "  <thead>\n",
       "    <tr style=\"text-align: right;\">\n",
       "      <th></th>\n",
       "      <th>sentiment</th>\n",
       "      <th>text</th>\n",
       "      <th>user</th>\n",
       "    </tr>\n",
       "  </thead>\n",
       "  <tbody>\n",
       "    <tr>\n",
       "      <th>0</th>\n",
       "      <td>positive</td>\n",
       "      <td>RT @rs_financial: **TESLA GIVEAWAY** \\n\\nWe ar...</td>\n",
       "      <td>MichaelEvEllis</td>\n",
       "    </tr>\n",
       "    <tr>\n",
       "      <th>1</th>\n",
       "      <td>positive</td>\n",
       "      <td>RT @The_Real_Fly: Elon is 100% fucking $TSLA w...</td>\n",
       "      <td>mates_cheers</td>\n",
       "    </tr>\n",
       "  </tbody>\n",
       "</table>\n",
       "</div>"
      ],
      "text/plain": [
       "  sentiment                                               text            user\n",
       "0  positive  RT @rs_financial: **TESLA GIVEAWAY** \\n\\nWe ar...  MichaelEvEllis\n",
       "1  positive  RT @The_Real_Fly: Elon is 100% fucking $TSLA w...    mates_cheers"
      ]
     },
     "execution_count": 6,
     "metadata": {},
     "output_type": "execute_result"
    }
   ],
   "source": [
    "# Ingest 100 tweets with the token $tsla in them\n",
    "\n",
    "tsla_tweets = pd.read_csv('./data/tsla.csv')\n",
    "\n",
    "tsla_tweets.head(2)"
   ]
  },
  {
   "cell_type": "code",
   "execution_count": 7,
   "id": "powerful-machine",
   "metadata": {},
   "outputs": [
    {
     "name": "stdout",
     "output_type": "stream",
     "text": [
      "Tweet: RT @rs_financial: **TESLA GIVEAWAY** \\n\\nWe are giving away one $TSLA share for FREE (equivalent cash value) to one person that retweets this…. Num tokens: 45\n",
      "Token: 101, subword: [CLS]\n",
      "Token: 19387, subword: rt\n",
      "Token: 1030, subword: @\n",
      "Token: 12667, subword: rs\n",
      "Token: 1035, subword: _\n",
      "Token: 3361, subword: financial\n",
      "Token: 1024, subword: :\n",
      "Token: 1008, subword: *\n",
      "Token: 1008, subword: *\n",
      "Token: 26060, subword: tesla\n",
      "Token: 2507, subword: give\n",
      "Token: 9497, subword: ##away\n",
      "Token: 1008, subword: *\n",
      "Token: 1008, subword: *\n",
      "Token: 1032, subword: \\\n",
      "Token: 1050, subword: n\n",
      "Token: 1032, subword: \\\n",
      "Token: 22064, subword: nw\n",
      "Token: 2063, subword: ##e\n",
      "Token: 2024, subword: are\n",
      "Token: 3228, subword: giving\n",
      "Token: 2185, subword: away\n",
      "Token: 2028, subword: one\n",
      "Token: 1002, subword: $\n",
      "Token: 24529, subword: ts\n",
      "Token: 2721, subword: ##la\n",
      "Token: 3745, subword: share\n",
      "Token: 2005, subword: for\n",
      "Token: 2489, subword: free\n",
      "Token: 1006, subword: (\n",
      "Token: 5662, subword: equivalent\n",
      "Token: 5356, subword: cash\n",
      "Token: 3643, subword: value\n",
      "Token: 1007, subword: )\n",
      "Token: 2000, subword: to\n",
      "Token: 2028, subword: one\n",
      "Token: 2711, subword: person\n",
      "Token: 2008, subword: that\n",
      "Token: 2128, subword: re\n",
      "Token: 2102, subword: ##t\n",
      "Token: 28394, subword: ##wee\n",
      "Token: 3215, subword: ##ts\n",
      "Token: 2023, subword: this\n",
      "Token: 1529, subword: …\n",
      "Token: 102, subword: [SEP]\n"
     ]
    }
   ],
   "source": [
    "# check our tokenizer\n",
    "\n",
    "tokenizer = BertTokenizer.from_pretrained('bert-base-uncased')\n",
    "\n",
    "first_tweet = tsla_tweets['text'][0]\n",
    "\n",
    "tokens = tokenizer.encode(first_tweet)\n",
    "\n",
    "print(f'Tweet: {first_tweet}. Num tokens: {len(tokens)}')\n",
    "for t in tokens:\n",
    "    print(f'Token: {t}, subword: {tokenizer.decode([t])}')"
   ]
  },
  {
   "cell_type": "code",
   "execution_count": null,
   "id": "coordinate-think",
   "metadata": {},
   "outputs": [],
   "source": []
  },
  {
   "cell_type": "code",
   "execution_count": 8,
   "id": "reported-recognition",
   "metadata": {},
   "outputs": [
    {
     "data": {
      "text/plain": [
       "neutral     48\n",
       "positive    34\n",
       "negative    18\n",
       "Name: sentiment, dtype: int64"
      ]
     },
     "execution_count": 8,
     "metadata": {},
     "output_type": "execute_result"
    }
   ],
   "source": [
    "tsla_tweets['sentiment'].value_counts()"
   ]
  },
  {
   "cell_type": "code",
   "execution_count": 9,
   "id": "perceived-metropolitan",
   "metadata": {},
   "outputs": [],
   "source": [
    "# Let's map our sentiment to a numerical classes. neutral and negative -> 0, neutral -> 1, and positive -> 2\n",
    "\n",
    "tsla_tweets['sentiment'] = tsla_tweets['sentiment'].map({'negative': 0, 'neutral': 1, 'positive': 2})"
   ]
  },
  {
   "cell_type": "code",
   "execution_count": 10,
   "id": "conventional-asbestos",
   "metadata": {},
   "outputs": [
    {
     "data": {
      "text/plain": [
       "1    48\n",
       "2    34\n",
       "0    18\n",
       "Name: label, dtype: int64"
      ]
     },
     "execution_count": 10,
     "metadata": {},
     "output_type": "execute_result"
    }
   ],
   "source": [
    "# the trainer is expecting a 'label' (see the forward method in the docs)\n",
    "tsla_tweets['label'] = tsla_tweets['sentiment']\n",
    "\n",
    "tsla_tweets['label'].value_counts()"
   ]
  },
  {
   "cell_type": "code",
   "execution_count": 11,
   "id": "other-radar",
   "metadata": {},
   "outputs": [],
   "source": [
    "tweet_dataset = Dataset.from_pandas(tsla_tweets)"
   ]
  },
  {
   "cell_type": "code",
   "execution_count": 12,
   "id": "suburban-arabic",
   "metadata": {},
   "outputs": [
    {
     "data": {
      "text/plain": [
       "nlp.arrow_dataset.Dataset"
      ]
     },
     "execution_count": 12,
     "metadata": {},
     "output_type": "execute_result"
    }
   ],
   "source": [
    "type(tweet_dataset)"
   ]
  },
  {
   "cell_type": "code",
   "execution_count": 13,
   "id": "informative-nelson",
   "metadata": {},
   "outputs": [
    {
     "data": {
      "application/vnd.jupyter.widget-view+json": {
       "model_id": "8ce5c9d891ae47698ed63e58fad0bb1f",
       "version_major": 2,
       "version_minor": 0
      },
      "text/plain": [
       "  0%|          | 0/1 [00:00<?, ?it/s]"
      ]
     },
     "metadata": {},
     "output_type": "display_data"
    },
    {
     "data": {
      "application/vnd.jupyter.widget-view+json": {
       "model_id": "b6ad9be40a11448c8fed13e15f550819",
       "version_major": 2,
       "version_minor": 0
      },
      "text/plain": [
       "  0%|          | 0/1 [00:00<?, ?it/s]"
      ]
     },
     "metadata": {},
     "output_type": "display_data"
    }
   ],
   "source": [
    "# Dataset has a built in train test split method\n",
    "\n",
    "tweet_dataset = tweet_dataset.train_test_split(test_size=0.3)"
   ]
  },
  {
   "cell_type": "code",
   "execution_count": 14,
   "id": "finished-stations",
   "metadata": {},
   "outputs": [],
   "source": [
    "train_set = tweet_dataset['train']\n",
    "test_set = tweet_dataset['test']"
   ]
  },
  {
   "cell_type": "code",
   "execution_count": 15,
   "id": "large-financing",
   "metadata": {},
   "outputs": [
    {
     "name": "stderr",
     "output_type": "stream",
     "text": [
      "Some weights of the model checkpoint at bert-base-uncased were not used when initializing BertForSequenceClassification: ['cls.predictions.bias', 'cls.predictions.transform.dense.weight', 'cls.predictions.transform.dense.bias', 'cls.predictions.decoder.weight', 'cls.seq_relationship.weight', 'cls.seq_relationship.bias', 'cls.predictions.transform.LayerNorm.weight', 'cls.predictions.transform.LayerNorm.bias']\n",
      "- This IS expected if you are initializing BertForSequenceClassification from the checkpoint of a model trained on another task or with another architecture (e.g. initializing a BertForSequenceClassification model from a BertForPreTraining model).\n",
      "- This IS NOT expected if you are initializing BertForSequenceClassification from the checkpoint of a model that you expect to be exactly identical (initializing a BertForSequenceClassification model from a BertForSequenceClassification model).\n",
      "Some weights of BertForSequenceClassification were not initialized from the model checkpoint at bert-base-uncased and are newly initialized: ['classifier.weight', 'classifier.bias']\n",
      "You should probably TRAIN this model on a down-stream task to be able to use it for predictions and inference.\n"
     ]
    }
   ],
   "source": [
    "sequence_classification_model = BertForSequenceClassification.from_pretrained(\n",
    "    'bert-base-uncased', num_labels=3)\n"
   ]
  },
  {
   "cell_type": "markdown",
   "id": "younger-antique",
   "metadata": {},
   "source": [
    "Let's break down this warning:\n",
    "\n",
    "```\n",
    "Some weights of the model checkpoint at bert-base-uncased were not used when initializing BertForSequenceClassification: ['cls.predictions.bias', 'cls.predictions.transform.dense.weight', 'cls.predictions.transform.dense.bias', 'cls.predictions.decoder.weight', 'cls.seq_relationship.weight', 'cls.seq_relationship.bias', 'cls.predictions.transform.LayerNorm.weight', 'cls.predictions.transform.LayerNorm.bias']\n",
    "\n",
    "\n",
    "- This IS expected if you are initializing BertForSequenceClassification from the checkpoint of a model trained on another task or with another architecture (e.g. initializing a BertForSequenceClassification model from a BertForPreTraining model).\n",
    "- This IS NOT expected if you are initializing BertForSequenceClassification from the checkpoint of a model that you expect to be exactly identical (initializing a BertForSequenceClassification model from a BertForSequenceClassification model).\n",
    "```\n",
    "\n",
    "This is telling us about the weights that it is not using in this sequence classification version of BERT\n",
    "\n",
    "--\n",
    "\n",
    "```\n",
    "Some weights of BertForSequenceClassification were not initialized from the model checkpoint at bert-base-uncased and are newly initialized: ['classifier.weight', 'classifier.bias']\n",
    "You should probably TRAIN this model on a down-stream task to be able to use it for predictions and inference.\n",
    "```\n",
    "\n",
    "The `classifier.weight` and `classifier.bias` are two new matrices we need to learn during fine-tuning"
   ]
  },
  {
   "cell_type": "code",
   "execution_count": 16,
   "id": "valid-hundred",
   "metadata": {},
   "outputs": [
    {
     "data": {
      "text/plain": [
       "transformers.models.bert.modeling_bert.BertModel"
      ]
     },
     "execution_count": 16,
     "metadata": {},
     "output_type": "execute_result"
    }
   ],
   "source": [
    "type(sequence_classification_model.bert)  # normal BERT model"
   ]
  },
  {
   "cell_type": "code",
   "execution_count": 17,
   "id": "mighty-ordinance",
   "metadata": {},
   "outputs": [
    {
     "name": "stdout",
     "output_type": "stream",
     "text": [
      "torch.Size([3, 768])\n",
      "torch.Size([3])\n"
     ]
    }
   ],
   "source": [
    "# this classifier is a feed forward layer that is shared across tokens. It squashes the BERT's 768 dimension\n",
    "# into 3 dimensions (negative, neutral, positive)\n",
    "\n",
    "print(sequence_classification_model.classifier.weight.shape)\n",
    "\n",
    "print(sequence_classification_model.classifier.bias.shape)"
   ]
  },
  {
   "cell_type": "code",
   "execution_count": 18,
   "id": "refined-wrestling",
   "metadata": {},
   "outputs": [],
   "source": [
    "tokenizer = BertTokenizer.from_pretrained('bert-base-uncased')\n"
   ]
  },
  {
   "cell_type": "code",
   "execution_count": 19,
   "id": "aware-coordinator",
   "metadata": {},
   "outputs": [
    {
     "data": {
      "text/plain": [
       "{'label': 1,\n",
       " 'sentiment': 1,\n",
       " 'text': 'Buy $BTC sell $TSLA',\n",
       " 'user': 'CryptoChaine'}"
      ]
     },
     "execution_count": 19,
     "metadata": {},
     "output_type": "execute_result"
    }
   ],
   "source": [
    "train_set[0]"
   ]
  },
  {
   "cell_type": "code",
   "execution_count": 20,
   "id": "plain-championship",
   "metadata": {},
   "outputs": [
    {
     "name": "stdout",
     "output_type": "stream",
     "text": [
      "$TSLA is going up like crazy\n"
     ]
    },
    {
     "data": {
      "text/plain": [
       "tensor([[[ 0.1686, -0.2858, -0.3261,  ..., -0.0276,  0.0383,  0.1640],\n",
       "         [-0.1050,  0.1661, -0.9914,  ...,  0.2027,  0.6734,  0.2520],\n",
       "         [ 0.3767, -0.6897, -0.1829,  ..., -0.6494,  0.1278,  0.4465],\n",
       "         ...,\n",
       "         [ 0.3810,  0.4720,  0.4045,  ...,  0.1828,  1.0139,  0.2938],\n",
       "         [-0.2988, -0.8134,  0.2842,  ...,  0.8991,  0.1088, -1.0871],\n",
       "         [-0.1474, -0.0411, -0.0732,  ..., -0.1157,  0.0421, -0.0550]]],\n",
       "       grad_fn=<NativeLayerNormBackward>)"
      ]
     },
     "execution_count": 20,
     "metadata": {},
     "output_type": "execute_result"
    }
   ],
   "source": [
    "tweet = '$TSLA is going up like crazy'\n",
    "print(tweet)\n",
    "\n",
    "encodings = tokenizer.encode_plus(tweet)\n",
    "\n",
    "# token_ids, attentionMask = encodings[\"input_ids\"], encodings[\"attention_mask\"]\n",
    "\n",
    "token_ids = torch.tensor(encodings['input_ids']).unsqueeze(0)\n",
    "attention_mask = torch.tensor(encodings['attention_mask']).unsqueeze(0)\n",
    "\n",
    "pre_finetuning_response = sequence_classification_model(\n",
    "    token_ids, output_hidden_states=True\n",
    ")\n",
    "\n",
    "pre_finetuning_response.hidden_states[0]"
   ]
  },
  {
   "cell_type": "code",
   "execution_count": 21,
   "id": "outstanding-denver",
   "metadata": {},
   "outputs": [
    {
     "data": {
      "text/plain": [
       "tensor([[ 0.1706, -0.0231, -0.2510]], grad_fn=<AddmmBackward>)"
      ]
     },
     "execution_count": 21,
     "metadata": {},
     "output_type": "execute_result"
    }
   ],
   "source": [
    "pre_finetuning_response.logits"
   ]
  },
  {
   "cell_type": "code",
   "execution_count": 22,
   "id": "neutral-jumping",
   "metadata": {},
   "outputs": [],
   "source": [
    "# We will pad our dataset so that our input matrices are the same length and truncate anything longer than 512 tokens\n",
    "def preprocess(data):\n",
    "    return tokenizer(data['text'], padding=True, truncation=True)"
   ]
  },
  {
   "cell_type": "code",
   "execution_count": 23,
   "id": "ambient-rover",
   "metadata": {},
   "outputs": [
    {
     "data": {
      "application/vnd.jupyter.widget-view+json": {
       "model_id": "053c6bd2c84b47ff8c13a36b7f34bfce",
       "version_major": 2,
       "version_minor": 0
      },
      "text/plain": [
       "  0%|          | 0/1 [00:00<?, ?it/s]"
      ]
     },
     "metadata": {},
     "output_type": "display_data"
    },
    {
     "data": {
      "application/vnd.jupyter.widget-view+json": {
       "model_id": "ea4c6b032772400eb1e7a918ca3dbb3a",
       "version_major": 2,
       "version_minor": 0
      },
      "text/plain": [
       "  0%|          | 0/1 [00:00<?, ?it/s]"
      ]
     },
     "metadata": {},
     "output_type": "display_data"
    }
   ],
   "source": [
    "train_set = train_set.map(preprocess, batched=True, batch_size=len(train_set))\n",
    "test_set = test_set.map(preprocess, batched=True, batch_size=len(test_set))"
   ]
  },
  {
   "cell_type": "code",
   "execution_count": 24,
   "id": "pregnant-steps",
   "metadata": {},
   "outputs": [],
   "source": [
    "train_set.set_format('torch', \n",
    "                      columns=['input_ids', 'attention_mask', 'label'])\n",
    "test_set.set_format('torch', \n",
    "                     columns=['input_ids', 'attention_mask', 'label'])"
   ]
  },
  {
   "cell_type": "code",
   "execution_count": 25,
   "id": "external-password",
   "metadata": {},
   "outputs": [],
   "source": [
    "batch_size = 8\n",
    "epochs = 2\n",
    "\n",
    "warmup_steps = 500\n",
    "weight_decay = 0.01"
   ]
  },
  {
   "cell_type": "code",
   "execution_count": 26,
   "id": "amino-possibility",
   "metadata": {},
   "outputs": [
    {
     "data": {
      "text/html": [
       "\n",
       "    <div>\n",
       "        <style>\n",
       "            /* Turns off some styling */\n",
       "            progress {\n",
       "                /* gets rid of default border in Firefox and Opera. */\n",
       "                border: none;\n",
       "                /* Needs to be in here for Safari polyfill so background images work as expected. */\n",
       "                background-size: auto;\n",
       "            }\n",
       "        </style>\n",
       "      \n",
       "      <progress value='8' max='4' style='width:300px; height:20px; vertical-align: middle;'></progress>\n",
       "      [4/4 01:28]\n",
       "    </div>\n",
       "    "
      ],
      "text/plain": [
       "<IPython.core.display.HTML object>"
      ]
     },
     "metadata": {},
     "output_type": "display_data"
    },
    {
     "data": {
      "text/plain": [
       "{'eval_loss': 1.0968059301376343,\n",
       " 'eval_runtime': 4.3494,\n",
       " 'eval_samples_per_second': 6.897}"
      ]
     },
     "execution_count": 26,
     "metadata": {},
     "output_type": "execute_result"
    }
   ],
   "source": [
    "training_args = TrainingArguments(\n",
    "    output_dir='./results',\n",
    "    num_train_epochs=epochs,\n",
    "    per_device_train_batch_size=batch_size,\n",
    "    per_device_eval_batch_size=batch_size,\n",
    "    warmup_steps=warmup_steps,\n",
    "    weight_decay=weight_decay,\n",
    "    logging_dir='./logs',\n",
    ")\n",
    "# Define the trainer: \n",
    "\n",
    "trainer = Trainer(\n",
    "    model=sequence_classification_model,\n",
    "    args=training_args,\n",
    "    train_dataset=train_set,\n",
    "    eval_dataset=test_set\n",
    ")\n",
    "\n",
    "# Get initial metrics\n",
    "trainer.evaluate()"
   ]
  },
  {
   "cell_type": "code",
   "execution_count": 27,
   "id": "considerable-horse",
   "metadata": {},
   "outputs": [
    {
     "data": {
      "text/html": [
       "\n",
       "    <div>\n",
       "        <style>\n",
       "            /* Turns off some styling */\n",
       "            progress {\n",
       "                /* gets rid of default border in Firefox and Opera. */\n",
       "                border: none;\n",
       "                /* Needs to be in here for Safari polyfill so background images work as expected. */\n",
       "                background-size: auto;\n",
       "            }\n",
       "        </style>\n",
       "      \n",
       "      <progress value='18' max='18' style='width:300px; height:20px; vertical-align: middle;'></progress>\n",
       "      [18/18 01:16, Epoch 2/2]\n",
       "    </div>\n",
       "    <table border=\"1\" class=\"dataframe\">\n",
       "  <thead>\n",
       "    <tr style=\"text-align: left;\">\n",
       "      <th>Step</th>\n",
       "      <th>Training Loss</th>\n",
       "    </tr>\n",
       "  </thead>\n",
       "  <tbody>\n",
       "  </tbody>\n",
       "</table><p>"
      ],
      "text/plain": [
       "<IPython.core.display.HTML object>"
      ]
     },
     "metadata": {},
     "output_type": "display_data"
    },
    {
     "data": {
      "text/plain": [
       "TrainOutput(global_step=18, training_loss=1.1496016184488933, metrics={'train_runtime': 81.0922, 'train_samples_per_second': 0.222, 'total_flos': 8736866850600.0, 'epoch': 2.0})"
      ]
     },
     "execution_count": 27,
     "metadata": {},
     "output_type": "execute_result"
    }
   ],
   "source": [
    "trainer.train()"
   ]
  },
  {
   "cell_type": "code",
   "execution_count": 28,
   "id": "alone-florence",
   "metadata": {},
   "outputs": [
    {
     "data": {
      "text/plain": [
       "{'eval_loss': 1.0894685983657837,\n",
       " 'eval_runtime': 4.2495,\n",
       " 'eval_samples_per_second': 7.06,\n",
       " 'epoch': 2.0}"
      ]
     },
     "execution_count": 28,
     "metadata": {},
     "output_type": "execute_result"
    }
   ],
   "source": [
    "trainer.evaluate()"
   ]
  },
  {
   "cell_type": "code",
   "execution_count": 29,
   "id": "circular-toner",
   "metadata": {},
   "outputs": [
    {
     "name": "stdout",
     "output_type": "stream",
     "text": [
      "$TSLA is going up like crazy\n"
     ]
    },
    {
     "data": {
      "text/plain": [
       "tensor(False)"
      ]
     },
     "execution_count": 29,
     "metadata": {},
     "output_type": "execute_result"
    }
   ],
   "source": [
    "print(tweet)\n",
    "\n",
    "post_finetuning_response = sequence_classification_model(\n",
    "    token_ids, output_hidden_states=True\n",
    ")\n",
    "\n",
    "# hidden states are different from before fine tuning\n",
    "(post_finetuning_response.hidden_states[0] == pre_finetuning_response.hidden_states[0]).all()"
   ]
  },
  {
   "cell_type": "code",
   "execution_count": 30,
   "id": "direct-ontario",
   "metadata": {},
   "outputs": [
    {
     "data": {
      "text/plain": [
       "tensor([[[ 0.1685, -0.2856, -0.3261,  ..., -0.0276,  0.0382,  0.1640],\n",
       "         [-0.1049,  0.1664, -0.9915,  ...,  0.2026,  0.6733,  0.2519],\n",
       "         [ 0.3767, -0.6894, -0.1830,  ..., -0.6493,  0.1278,  0.4463],\n",
       "         ...,\n",
       "         [ 0.3809,  0.4722,  0.4043,  ...,  0.1828,  1.0139,  0.2936],\n",
       "         [-0.2986, -0.8132,  0.2840,  ...,  0.8990,  0.1088, -1.0872],\n",
       "         [-0.1473, -0.0410, -0.0731,  ..., -0.1159,  0.0421, -0.0551]]],\n",
       "       grad_fn=<NativeLayerNormBackward>)"
      ]
     },
     "execution_count": 30,
     "metadata": {},
     "output_type": "execute_result"
    }
   ],
   "source": [
    "post_finetuning_response.hidden_states[0]"
   ]
  },
  {
   "cell_type": "code",
   "execution_count": 31,
   "id": "coordinated-anaheim",
   "metadata": {},
   "outputs": [
    {
     "data": {
      "text/plain": [
       "tensor([[ 0.1423, -0.0080, -0.2226]], grad_fn=<AddmmBackward>)"
      ]
     },
     "execution_count": 31,
     "metadata": {},
     "output_type": "execute_result"
    }
   ],
   "source": [
    "post_finetuning_response.logits"
   ]
  },
  {
   "cell_type": "code",
   "execution_count": null,
   "id": "distinct-complaint",
   "metadata": {},
   "outputs": [],
   "source": []
  },
  {
   "cell_type": "markdown",
   "id": "unlikely-search",
   "metadata": {},
   "source": [
    "Let's try that sequence again but this time, let's freeze the layers of BERT to try and speed up training"
   ]
  },
  {
   "cell_type": "code",
   "execution_count": 32,
   "id": "joined-voluntary",
   "metadata": {},
   "outputs": [
    {
     "name": "stderr",
     "output_type": "stream",
     "text": [
      "Some weights of the model checkpoint at bert-base-uncased were not used when initializing BertForSequenceClassification: ['cls.predictions.bias', 'cls.predictions.transform.dense.weight', 'cls.predictions.transform.dense.bias', 'cls.predictions.decoder.weight', 'cls.seq_relationship.weight', 'cls.seq_relationship.bias', 'cls.predictions.transform.LayerNorm.weight', 'cls.predictions.transform.LayerNorm.bias']\n",
      "- This IS expected if you are initializing BertForSequenceClassification from the checkpoint of a model trained on another task or with another architecture (e.g. initializing a BertForSequenceClassification model from a BertForPreTraining model).\n",
      "- This IS NOT expected if you are initializing BertForSequenceClassification from the checkpoint of a model that you expect to be exactly identical (initializing a BertForSequenceClassification model from a BertForSequenceClassification model).\n",
      "Some weights of BertForSequenceClassification were not initialized from the model checkpoint at bert-base-uncased and are newly initialized: ['classifier.weight', 'classifier.bias']\n",
      "You should probably TRAIN this model on a down-stream task to be able to use it for predictions and inference.\n"
     ]
    }
   ],
   "source": [
    "# re-instantiate BERT\n",
    "new_sequence_classification_model = BertForSequenceClassification.from_pretrained(\n",
    "    'bert-base-uncased', num_labels=3\n",
    ")"
   ]
  },
  {
   "cell_type": "code",
   "execution_count": 33,
   "id": "russian-combine",
   "metadata": {},
   "outputs": [],
   "source": [
    "# freeze all layers in BERT to speed up training\n",
    "for param in new_sequence_classification_model.bert.parameters():\n",
    "    param.requires_grad = False  # disable training in BERT"
   ]
  },
  {
   "cell_type": "code",
   "execution_count": 34,
   "id": "aerial-framework",
   "metadata": {},
   "outputs": [
    {
     "data": {
      "text/html": [
       "\n",
       "    <div>\n",
       "        <style>\n",
       "            /* Turns off some styling */\n",
       "            progress {\n",
       "                /* gets rid of default border in Firefox and Opera. */\n",
       "                border: none;\n",
       "                /* Needs to be in here for Safari polyfill so background images work as expected. */\n",
       "                background-size: auto;\n",
       "            }\n",
       "        </style>\n",
       "      \n",
       "      <progress value='8' max='4' style='width:300px; height:20px; vertical-align: middle;'></progress>\n",
       "      [4/4 00:30]\n",
       "    </div>\n",
       "    "
      ],
      "text/plain": [
       "<IPython.core.display.HTML object>"
      ]
     },
     "metadata": {},
     "output_type": "display_data"
    },
    {
     "data": {
      "text/plain": [
       "{'eval_loss': 1.3576469421386719,\n",
       " 'eval_runtime': 4.2398,\n",
       " 'eval_samples_per_second': 7.076}"
      ]
     },
     "execution_count": 34,
     "metadata": {},
     "output_type": "execute_result"
    }
   ],
   "source": [
    "# Change the model in the trainer to be our newly instantiated model\n",
    "trainer = Trainer(\n",
    "    model=new_sequence_classification_model,\n",
    "    args=training_args,\n",
    "    train_dataset=train_set,\n",
    "    eval_dataset=test_set\n",
    ")\n",
    "\n",
    "# Get initial metrics. Similar as before. Check: Why isn't it the same loss?\n",
    "trainer.evaluate()"
   ]
  },
  {
   "cell_type": "code",
   "execution_count": 35,
   "id": "allied-praise",
   "metadata": {},
   "outputs": [
    {
     "data": {
      "text/html": [
       "\n",
       "    <div>\n",
       "        <style>\n",
       "            /* Turns off some styling */\n",
       "            progress {\n",
       "                /* gets rid of default border in Firefox and Opera. */\n",
       "                border: none;\n",
       "                /* Needs to be in here for Safari polyfill so background images work as expected. */\n",
       "                background-size: auto;\n",
       "            }\n",
       "        </style>\n",
       "      \n",
       "      <progress value='18' max='18' style='width:300px; height:20px; vertical-align: middle;'></progress>\n",
       "      [18/18 00:21, Epoch 2/2]\n",
       "    </div>\n",
       "    <table border=\"1\" class=\"dataframe\">\n",
       "  <thead>\n",
       "    <tr style=\"text-align: left;\">\n",
       "      <th>Step</th>\n",
       "      <th>Training Loss</th>\n",
       "    </tr>\n",
       "  </thead>\n",
       "  <tbody>\n",
       "  </tbody>\n",
       "</table><p>"
      ],
      "text/plain": [
       "<IPython.core.display.HTML object>"
      ]
     },
     "metadata": {},
     "output_type": "display_data"
    },
    {
     "data": {
      "text/plain": [
       "TrainOutput(global_step=18, training_loss=1.1115553114149306, metrics={'train_runtime': 23.1385, 'train_samples_per_second': 0.778, 'total_flos': 8736866850600.0, 'epoch': 2.0})"
      ]
     },
     "execution_count": 35,
     "metadata": {},
     "output_type": "execute_result"
    }
   ],
   "source": [
    "trainer.train()  # MUCH faster"
   ]
  },
  {
   "cell_type": "code",
   "execution_count": 36,
   "id": "legendary-solomon",
   "metadata": {},
   "outputs": [
    {
     "data": {
      "text/plain": [
       "{'eval_loss': 1.3554033041000366,\n",
       " 'eval_runtime': 4.2576,\n",
       " 'eval_samples_per_second': 7.046,\n",
       " 'epoch': 2.0}"
      ]
     },
     "execution_count": 36,
     "metadata": {},
     "output_type": "execute_result"
    }
   ],
   "source": [
    "trainer.evaluate()"
   ]
  },
  {
   "cell_type": "code",
   "execution_count": 37,
   "id": "liberal-champion",
   "metadata": {},
   "outputs": [
    {
     "data": {
      "text/plain": [
       "tensor(True)"
      ]
     },
     "execution_count": 37,
     "metadata": {},
     "output_type": "execute_result"
    }
   ],
   "source": [
    "post_finetuning_response = new_sequence_classification_model(\n",
    "    token_ids, output_hidden_states=True\n",
    ")\n",
    "\n",
    "# hidden states are same as before fine tuning\n",
    "(post_finetuning_response.hidden_states[0] == pre_finetuning_response.hidden_states[0]).all()"
   ]
  },
  {
   "cell_type": "code",
   "execution_count": 38,
   "id": "million-pathology",
   "metadata": {},
   "outputs": [
    {
     "data": {
      "text/plain": [
       "(tensor([[ 0.1706, -0.0231, -0.2510]], grad_fn=<AddmmBackward>),\n",
       " tensor([[-0.5157, -0.2191,  0.3199]], grad_fn=<AddmmBackward>))"
      ]
     },
     "execution_count": 38,
     "metadata": {},
     "output_type": "execute_result"
    }
   ],
   "source": [
    "# the logits are different as the pre-trained model because the classifier weights are initialized randomly every time\n",
    "#  this is also why the initial logits weren't the same\n",
    "\n",
    "pre_finetuning_response.logits, post_finetuning_response.logits  "
   ]
  },
  {
   "cell_type": "code",
   "execution_count": 39,
   "id": "respective-duration",
   "metadata": {},
   "outputs": [
    {
     "data": {
      "text/plain": [
       "tensor([[[ 0.1686, -0.2858, -0.3261,  ..., -0.0276,  0.0383,  0.1640],\n",
       "         [-0.1050,  0.1661, -0.9914,  ...,  0.2027,  0.6734,  0.2520],\n",
       "         [ 0.3767, -0.6897, -0.1829,  ..., -0.6494,  0.1278,  0.4465],\n",
       "         ...,\n",
       "         [ 0.3810,  0.4720,  0.4045,  ...,  0.1828,  1.0139,  0.2938],\n",
       "         [-0.2988, -0.8134,  0.2842,  ...,  0.8991,  0.1088, -1.0871],\n",
       "         [-0.1474, -0.0411, -0.0732,  ..., -0.1157,  0.0421, -0.0550]]])"
      ]
     },
     "execution_count": 39,
     "metadata": {},
     "output_type": "execute_result"
    }
   ],
   "source": [
    "post_finetuning_response.hidden_states[0]"
   ]
  },
  {
   "cell_type": "code",
   "execution_count": null,
   "id": "driving-coating",
   "metadata": {},
   "outputs": [],
   "source": []
  },
  {
   "cell_type": "code",
   "execution_count": null,
   "id": "fresh-seafood",
   "metadata": {},
   "outputs": [],
   "source": []
  },
  {
   "cell_type": "code",
   "execution_count": null,
   "id": "afraid-burke",
   "metadata": {},
   "outputs": [],
   "source": []
  },
  {
   "cell_type": "markdown",
   "id": "dimensional-drain",
   "metadata": {},
   "source": [
    "# Example 2. Question/Answering with a model already fine-tuned using SQuAD\n",
    "\n",
    "\n",
    "![BERT QA](images/bert_qa.png)"
   ]
  },
  {
   "cell_type": "code",
   "execution_count": 40,
   "id": "norwegian-fortune",
   "metadata": {},
   "outputs": [],
   "source": [
    "# there are pre fine-tuned models that learned from the SQuAD dataset\n",
    "\n",
    "large_bert_tokenizer = BertTokenizer.from_pretrained('bert-large-uncased', return_token_type_ids=True)\n",
    "qa_bert = BertForQuestionAnswering.from_pretrained('bert-large-uncased-whole-word-masking-finetuned-squad')"
   ]
  },
  {
   "cell_type": "code",
   "execution_count": 41,
   "id": "distinguished-element",
   "metadata": {},
   "outputs": [
    {
     "data": {
      "text/plain": [
       "transformers.models.bert.modeling_bert.BertModel"
      ]
     },
     "execution_count": 41,
     "metadata": {},
     "output_type": "execute_result"
    }
   ],
   "source": [
    "type(qa_bert.bert)  # BERT model"
   ]
  },
  {
   "cell_type": "code",
   "execution_count": 42,
   "id": "optimum-arena",
   "metadata": {},
   "outputs": [
    {
     "name": "stdout",
     "output_type": "stream",
     "text": [
      "number of layers in the encoder stack: 24\n"
     ]
    }
   ],
   "source": [
    "print(f'number of layers in the encoder stack: {len(qa_bert.bert.encoder.layer)}')  #  LARGE BERT"
   ]
  },
  {
   "cell_type": "markdown",
   "id": "convinced-middle",
   "metadata": {},
   "source": [
    "### Count the Parameters in Large BERT"
   ]
  },
  {
   "cell_type": "code",
   "execution_count": 43,
   "id": "visible-notebook",
   "metadata": {},
   "outputs": [
    {
     "name": "stdout",
     "output_type": "stream",
     "text": [
      "Total Parameters: 333,770,752\n"
     ]
    }
   ],
   "source": [
    "total_params = 0\n",
    "for p in qa_bert.bert.parameters():\n",
    "    if len(p.shape) == 2:\n",
    "        total_params += p.shape[0] * p.shape[1]\n",
    "        \n",
    "print(f'Total Parameters: {total_params:,}')  # This is where the 110M parameter comes from"
   ]
  },
  {
   "cell_type": "code",
   "execution_count": 44,
   "id": "occupied-guard",
   "metadata": {},
   "outputs": [
    {
     "name": "stdout",
     "output_type": "stream",
     "text": [
      "The BERT model has 391 different named parameters.\n",
      "\n",
      "==== Embedding Layer ====\n",
      "\n",
      "bert.embeddings.word_embeddings.weight                  (30522, 1024)\n",
      "bert.embeddings.position_embeddings.weight               (512, 1024)\n",
      "bert.embeddings.token_type_embeddings.weight               (2, 1024)\n",
      "bert.embeddings.LayerNorm.weight                             (1024,)\n",
      "bert.embeddings.LayerNorm.bias                               (1024,)\n",
      "\n",
      "==== First Transformer ====\n",
      "\n",
      "bert.encoder.layer.0.attention.self.query.weight        (1024, 1024)\n",
      "bert.encoder.layer.0.attention.self.query.bias               (1024,)\n",
      "bert.encoder.layer.0.attention.self.key.weight          (1024, 1024)\n",
      "bert.encoder.layer.0.attention.self.key.bias                 (1024,)\n",
      "bert.encoder.layer.0.attention.self.value.weight        (1024, 1024)\n",
      "bert.encoder.layer.0.attention.self.value.bias               (1024,)\n",
      "bert.encoder.layer.0.attention.output.dense.weight      (1024, 1024)\n",
      "bert.encoder.layer.0.attention.output.dense.bias             (1024,)\n",
      "bert.encoder.layer.0.attention.output.LayerNorm.weight       (1024,)\n",
      "bert.encoder.layer.0.attention.output.LayerNorm.bias         (1024,)\n",
      "bert.encoder.layer.0.intermediate.dense.weight          (4096, 1024)\n",
      "bert.encoder.layer.0.intermediate.dense.bias                 (4096,)\n",
      "bert.encoder.layer.0.output.dense.weight                (1024, 4096)\n",
      "bert.encoder.layer.0.output.dense.bias                       (1024,)\n",
      "bert.encoder.layer.0.output.LayerNorm.weight                 (1024,)\n",
      "bert.encoder.layer.0.output.LayerNorm.bias                   (1024,)\n",
      "\n",
      "==== Output Layer ====\n",
      "\n",
      "qa_outputs.weight                                          (2, 1024)\n",
      "qa_outputs.bias                                                 (2,)\n"
     ]
    }
   ],
   "source": [
    "# Get all of the model's parameters as a list of tuples.\n",
    "params = list(qa_bert.named_parameters())\n",
    "\n",
    "print('The BERT model has {:} different named parameters.\\n'.format(len(params)))\n",
    "\n",
    "print('==== Embedding Layer ====\\n')\n",
    "\n",
    "for p in params[0:5]:\n",
    "    print(\"{:<55} {:>12}\".format(p[0], str(tuple(p[1].size()))))\n",
    "\n",
    "print('\\n==== First Transformer ====\\n')\n",
    "\n",
    "for p in params[5:21]:\n",
    "    print(\"{:<55} {:>12}\".format(p[0], str(tuple(p[1].size()))))\n",
    "\n",
    "print('\\n==== Output Layer ====\\n')\n",
    "\n",
    "for p in params[-2:]:\n",
    "    print(\"{:<55} {:>12}\".format(p[0], str(tuple(p[1].size()))))\n"
   ]
  },
  {
   "cell_type": "code",
   "execution_count": 45,
   "id": "handy-grammar",
   "metadata": {},
   "outputs": [],
   "source": [
    "# this qa_outputs is a feed forward layer that is shared across tokens. It squashes the BERT-large's 1024 dimension\n",
    "# into 2 dimensions (start position and end position)"
   ]
  },
  {
   "cell_type": "code",
   "execution_count": null,
   "id": "partial-latter",
   "metadata": {},
   "outputs": [],
   "source": []
  },
  {
   "cell_type": "code",
   "execution_count": 46,
   "id": "copyrighted-allergy",
   "metadata": {},
   "outputs": [],
   "source": [
    "sns.set(rc={\"figure.figsize\":(20, 5)}) \n",
    "\n",
    "def q_a(question, context):\n",
    "    encodings = large_bert_tokenizer.encode_plus(question, context)\n",
    "\n",
    "    inputIds, attentionMask = encodings[\"input_ids\"], encodings[\"attention_mask\"]\n",
    "\n",
    "    response = qa_bert(torch.tensor([inputIds]), attention_mask=torch.tensor([attentionMask]))\n",
    "    scoresStart, scoresEnd = response['start_logits'], response['end_logits']\n",
    "    tokens = inputIds[torch.argmax(scoresStart): torch.argmax(scoresEnd) + 1]\n",
    "    answerTokens = large_bert_tokenizer.convert_ids_to_tokens(tokens, skip_special_tokens=True)\n",
    "    \n",
    "    token_labels = large_bert_tokenizer.convert_ids_to_tokens(inputIds)\n",
    "    \n",
    "    \n",
    "    # bar plot code courtesy of Chris McCormick\n",
    "    # https://mccormickml.com/2020/03/10/question-answering-with-a-fine-tuned-BERT\n",
    "    \n",
    "    # Create a barplot showing the start word score for all of the tokens.\n",
    "    ax = sns.barplot(x=token_labels, y=scoresStart.squeeze().tolist(), ci=None)\n",
    "    # Turn the xlabels vertical.\n",
    "    ax.set_xticklabels(ax.get_xticklabels(), rotation=90, ha=\"center\")\n",
    "    # Turn on the vertical grid to help align words to scores.\n",
    "    plt.title('Start Word Scores')\n",
    "    \n",
    "    plt.show()\n",
    "    \n",
    "    # Create a barplot showing the start word score for all of the tokens.\n",
    "    ax = sns.barplot(x=token_labels, y=scoresEnd.squeeze().tolist(), ci=None)\n",
    "    # Turn the xlabels vertical.\n",
    "    ax.set_xticklabels(ax.get_xticklabels(), rotation=90, ha=\"center\")\n",
    "    # Turn on thaae vertical grid to help align words to scores.\n",
    "    plt.title('End Word Scores')\n",
    "\n",
    "    plt.show()\n",
    "    \n",
    "    \n",
    "    return large_bert_tokenizer.convert_tokens_to_string(answerTokens)"
   ]
  },
  {
   "cell_type": "code",
   "execution_count": 47,
   "id": "hydraulic-detective",
   "metadata": {},
   "outputs": [
    {
     "data": {
      "image/png": "[encoded data removed]",
      "text/plain": [
       "<Figure size 1440x360 with 1 Axes>"
      ]
     },
     "metadata": {},
     "output_type": "display_data"
    },
    {
     "data": {
      "image/png": "[encoded data removed]",
      "text/plain": [
       "<Figure size 1440x360 with 1 Axes>"
      ]
     },
     "metadata": {},
     "output_type": "display_data"
    },
    {
     "data": {
      "text/plain": [
       "'canada'"
      ]
     },
     "execution_count": 47,
     "metadata": {},
     "output_type": "execute_result"
    }
   ],
   "source": [
    "q_a(\"Where does Matt live?\", \"Matt lives in Canada and Sinan lives in California\")"
   ]
  },
  {
   "cell_type": "code",
   "execution_count": 48,
   "id": "commercial-basement",
   "metadata": {},
   "outputs": [],
   "source": [
    "# From https://docs.microsoft.com/en-us/azure/databricks/kb/jobs/active-vs-dead-jobs\n",
    "\n",
    "longer_context = \"\"\"\n",
    "Whenever there are too many concurrent jobs running on a cluster, there is a chance that the Spark internal \n",
    "eventListenerBus drops events. These events are used to track job progress in the Spark UI. Whenever the event \n",
    "listener drops events you start seeing dead jobs/stages in Spark UI, which never finish. \n",
    "The jobs are actually finished but not shown as completed in the Spark UI.\n",
    "\"\"\""
   ]
  },
  {
   "cell_type": "code",
   "execution_count": 49,
   "id": "fitting-tribute",
   "metadata": {},
   "outputs": [
    {
     "name": "stdout",
     "output_type": "stream",
     "text": [
      "78\n",
      "Token: 101, subword: [CLS]\n",
      "Token: 7188, subword: whenever\n",
      "Token: 2045, subword: there\n",
      "Token: 2024, subword: are\n",
      "Token: 2205, subword: too\n",
      "Token: 2116, subword: many\n",
      "Token: 16483, subword: concurrent\n",
      "Token: 5841, subword: jobs\n",
      "Token: 2770, subword: running\n",
      "Token: 2006, subword: on\n",
      "Token: 1037, subword: a\n",
      "Token: 9324, subword: cluster\n",
      "Token: 1010, subword: ,\n",
      "Token: 2045, subword: there\n",
      "Token: 2003, subword: is\n",
      "Token: 1037, subword: a\n",
      "Token: 3382, subword: chance\n",
      "Token: 2008, subword: that\n",
      "Token: 1996, subword: the\n",
      "Token: 12125, subword: spark\n",
      "Token: 4722, subword: internal\n",
      "Token: 2724, subword: event\n",
      "Token: 9863, subword: ##list\n",
      "Token: 24454, subword: ##ener\n",
      "Token: 8286, subword: ##bus\n",
      "Token: 9010, subword: drops\n",
      "Token: 2824, subword: events\n",
      "Token: 1012, subword: .\n",
      "Token: 2122, subword: these\n",
      "Token: 2824, subword: events\n"
     ]
    }
   ],
   "source": [
    "print(len(tokenizer(longer_context)['input_ids']))  # 78 tokens\n",
    "      \n",
    "for t in tokenizer(longer_context)['input_ids'][:30]:\n",
    "    print(f'Token: {t}, subword: {tokenizer.decode([t])}')\n",
    "    \n"
   ]
  },
  {
   "cell_type": "code",
   "execution_count": 50,
   "id": "enhanced-renewal",
   "metadata": {},
   "outputs": [
    {
     "data": {
      "image/png": "[encoded data removed]",
      "text/plain": [
       "<Figure size 1440x360 with 1 Axes>"
      ]
     },
     "metadata": {},
     "output_type": "display_data"
    },
    {
     "data": {
      "image/png": "[encoded data removed]",
      "text/plain": [
       "<Figure size 1440x360 with 1 Axes>"
      ]
     },
     "metadata": {},
     "output_type": "display_data"
    },
    {
     "data": {
      "text/plain": [
       "'there is a chance that the spark internal eventlistenerbus drops events'"
      ]
     },
     "execution_count": 50,
     "metadata": {},
     "output_type": "execute_result"
    }
   ],
   "source": [
    "q_a(\"what if I run a bunch of jobs at the same time?\", longer_context)"
   ]
  },
  {
   "cell_type": "code",
   "execution_count": null,
   "id": "bigger-wheel",
   "metadata": {},
   "outputs": [],
   "source": []
  },
  {
   "cell_type": "markdown",
   "id": "fossil-physiology",
   "metadata": {},
   "source": [
    "# Working with flavors of BERT"
   ]
  },
  {
   "cell_type": "code",
   "execution_count": 51,
   "id": "maritime-visitor",
   "metadata": {},
   "outputs": [
    {
     "name": "stderr",
     "output_type": "stream",
     "text": [
      "Some weights of the model checkpoint at distilbert-base-uncased were not used when initializing DistilBertForTokenClassification: ['vocab_transform.weight', 'vocab_transform.bias', 'vocab_layer_norm.weight', 'vocab_layer_norm.bias', 'vocab_projector.weight', 'vocab_projector.bias']\n",
      "- This IS expected if you are initializing DistilBertForTokenClassification from the checkpoint of a model trained on another task or with another architecture (e.g. initializing a BertForSequenceClassification model from a BertForPreTraining model).\n",
      "- This IS NOT expected if you are initializing DistilBertForTokenClassification from the checkpoint of a model that you expect to be exactly identical (initializing a BertForSequenceClassification model from a BertForSequenceClassification model).\n",
      "Some weights of DistilBertForTokenClassification were not initialized from the model checkpoint at distilbert-base-uncased and are newly initialized: ['classifier.weight', 'classifier.bias']\n",
      "You should probably TRAIN this model on a down-stream task to be able to use it for predictions and inference.\n"
     ]
    }
   ],
   "source": [
    "distil_model = DistilBertForTokenClassification.from_pretrained('distilbert-base-uncased')\n"
   ]
  },
  {
   "cell_type": "code",
   "execution_count": 52,
   "id": "fitted-incident",
   "metadata": {},
   "outputs": [
    {
     "data": {
      "text/plain": [
       "transformers.models.distilbert.modeling_distilbert.DistilBertForTokenClassification"
      ]
     },
     "execution_count": 52,
     "metadata": {},
     "output_type": "execute_result"
    }
   ],
   "source": [
    "type(distil_model)"
   ]
  },
  {
   "cell_type": "code",
   "execution_count": 53,
   "id": "stainless-belize",
   "metadata": {},
   "outputs": [
    {
     "name": "stdout",
     "output_type": "stream",
     "text": [
      "The DistilBERT model has 102 different named parameters.\n",
      "\n",
      "==== Embedding Layer ====\n",
      "\n",
      "distilbert.embeddings.word_embeddings.weight            (30522, 768)\n",
      "distilbert.embeddings.position_embeddings.weight          (512, 768)\n",
      "distilbert.embeddings.LayerNorm.weight                        (768,)\n",
      "distilbert.embeddings.LayerNorm.bias                          (768,)\n",
      "\n",
      "==== First Transformer ====\n",
      "\n",
      "distilbert.transformer.layer.0.attention.q_lin.bias           (768,)\n",
      "distilbert.transformer.layer.0.attention.k_lin.weight     (768, 768)\n",
      "distilbert.transformer.layer.0.attention.k_lin.bias           (768,)\n",
      "distilbert.transformer.layer.0.attention.v_lin.weight     (768, 768)\n",
      "distilbert.transformer.layer.0.attention.v_lin.bias           (768,)\n",
      "distilbert.transformer.layer.0.attention.out_lin.weight   (768, 768)\n",
      "distilbert.transformer.layer.0.attention.out_lin.bias         (768,)\n",
      "distilbert.transformer.layer.0.sa_layer_norm.weight           (768,)\n",
      "distilbert.transformer.layer.0.sa_layer_norm.bias             (768,)\n",
      "distilbert.transformer.layer.0.ffn.lin1.weight           (3072, 768)\n",
      "distilbert.transformer.layer.0.ffn.lin1.bias                 (3072,)\n",
      "distilbert.transformer.layer.0.ffn.lin2.weight           (768, 3072)\n",
      "distilbert.transformer.layer.0.ffn.lin2.bias                  (768,)\n",
      "distilbert.transformer.layer.0.output_layer_norm.weight       (768,)\n",
      "distilbert.transformer.layer.0.output_layer_norm.bias         (768,)\n",
      "\n",
      "==== Output Layer ====\n",
      "\n",
      "classifier.weight                                           (2, 768)\n",
      "classifier.bias                                                 (2,)\n"
     ]
    }
   ],
   "source": [
    "# Get all of the model's parameters as a list of tuples.\n",
    "named_params = list(distil_model.named_parameters())\n",
    "\n",
    "print('The DistilBERT model has {:} different named parameters.\\n'.format(len(named_params)))\n",
    "\n",
    "print('==== Embedding Layer ====\\n')\n",
    "for p in named_params[0:4]:\n",
    "    print(\"{:<55} {:>12}\".format(p[0], str(tuple(p[1].size()))))\n",
    "\n",
    "print('\\n==== First Transformer ====\\n')\n",
    "for p in named_params[5:20]:\n",
    "    print(\"{:<55} {:>12}\".format(p[0], str(tuple(p[1].size()))))\n",
    "\n",
    "print('\\n==== Output Layer ====\\n')\n",
    "for p in named_params[-2:]:\n",
    "    print(\"{:<55} {:>12}\".format(p[0], str(tuple(p[1].size()))))\n"
   ]
  },
  {
   "cell_type": "markdown",
   "id": "smart-layer",
   "metadata": {},
   "source": [
    "# Count the Parameters in DistilBERT"
   ]
  },
  {
   "cell_type": "code",
   "execution_count": 54,
   "id": "preceding-internship",
   "metadata": {},
   "outputs": [
    {
     "name": "stdout",
     "output_type": "stream",
     "text": [
      "Total Parameters: 66,302,976\n"
     ]
    }
   ],
   "source": [
    "total_params = 0\n",
    "for p in distil_model.parameters():\n",
    "    if len(p.shape) == 2:\n",
    "        total_params += p.shape[0] * p.shape[1]\n",
    "        \n",
    "print(f'Total Parameters: {total_params:,}')  # This is where the 110M parameter comes from"
   ]
  },
  {
   "cell_type": "code",
   "execution_count": null,
   "id": "personal-thesaurus",
   "metadata": {},
   "outputs": [],
   "source": []
  },
  {
   "cell_type": "code",
   "execution_count": null,
   "id": "advanced-thinking",
   "metadata": {},
   "outputs": [],
   "source": []
  },
  {
   "cell_type": "markdown",
   "id": "suspected-brave",
   "metadata": {},
   "source": [
    "![Transformers](images/hf_models.png)"
   ]
  },
  {
   "cell_type": "code",
   "execution_count": 55,
   "id": "complimentary-demographic",
   "metadata": {},
   "outputs": [],
   "source": [
    "# https://huggingface.co/savasy/bert-base-turkish-ner-cased\n",
    "custom_module = 'savasy/bert-base-turkish-ner-cased'\n",
    "\n",
    "turkish_ner_tokenizer = AutoTokenizer.from_pretrained(custom_module)\n",
    "turkish_ner_model = AutoModelForTokenClassification.from_pretrained(custom_module)"
   ]
  },
  {
   "cell_type": "code",
   "execution_count": 56,
   "id": "returning-circus",
   "metadata": {},
   "outputs": [
    {
     "data": {
      "text/plain": [
       "transformers.models.bert.modeling_bert.BertModel"
      ]
     },
     "execution_count": 56,
     "metadata": {},
     "output_type": "execute_result"
    }
   ],
   "source": [
    "type(turkish_ner_model.bert)  # standard BERT"
   ]
  },
  {
   "cell_type": "code",
   "execution_count": 57,
   "id": "hispanic-gross",
   "metadata": {},
   "outputs": [],
   "source": [
    "sequence = \"Merhaba! Benim adım Sinan. San Francisco'dan geliyorum\" # Hi! I'm Sinan. I come from San Francisco"
   ]
  },
  {
   "cell_type": "code",
   "execution_count": 58,
   "id": "sixth-construction",
   "metadata": {},
   "outputs": [
    {
     "data": {
      "text/plain": [
       "[{'word': 'Sinan',\n",
       "  'score': 0.7242471575737,\n",
       "  'entity': 'B-PER',\n",
       "  'index': 5,\n",
       "  'start': 20,\n",
       "  'end': 25},\n",
       " {'word': 'San',\n",
       "  'score': 0.9987995624542236,\n",
       "  'entity': 'B-LOC',\n",
       "  'index': 7,\n",
       "  'start': 27,\n",
       "  'end': 30},\n",
       " {'word': 'Francisco',\n",
       "  'score': 0.9977098107337952,\n",
       "  'entity': 'I-LOC',\n",
       "  'index': 8,\n",
       "  'start': 31,\n",
       "  'end': 40}]"
      ]
     },
     "execution_count": 58,
     "metadata": {},
     "output_type": "execute_result"
    }
   ],
   "source": [
    "ner=pipeline('ner', model=turkish_ner_model, tokenizer=turkish_ner_tokenizer)\n",
    "ner(sequence)"
   ]
  },
  {
   "cell_type": "code",
   "execution_count": null,
   "id": "hollow-savannah",
   "metadata": {},
   "outputs": [],
   "source": []
  }
 ],
 "metadata": {
  "kernelspec": {
   "display_name": "Python 3",
   "language": "python",
   "name": "python3"
  },
  "language_info": {
   "codemirror_mode": {
    "name": "ipython",
    "version": 3
   },
   "file_extension": ".py",
   "mimetype": "text/x-python",
   "name": "python",
   "nbconvert_exporter": "python",
   "pygments_lexer": "ipython3",
   "version": "3.9.1"
  }
 },
 "nbformat": 4,
 "nbformat_minor": 5
}
